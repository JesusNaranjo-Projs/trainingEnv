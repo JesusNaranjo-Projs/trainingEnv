{
 "cells": [
  {
   "cell_type": "markdown",
   "metadata": {},
   "source": [
    "# Training\n",
    "\n",
    "This section contains code that will train a number of models. "
   ]
  },
  {
   "cell_type": "code",
   "execution_count": 1,
   "metadata": {},
   "outputs": [
    {
     "name": "stderr",
     "output_type": "stream",
     "text": [
      "pybullet build time: Nov 28 2023 23:51:11\n"
     ]
    },
    {
     "ename": "AttributeError",
     "evalue": "'int' object has no attribute 'loadURDF'",
     "output_type": "error",
     "traceback": [
      "\u001b[0;31m---------------------------------------------------------------------------\u001b[0m",
      "\u001b[0;31mAttributeError\u001b[0m                            Traceback (most recent call last)",
      "Cell \u001b[0;32mIn[1], line 17\u001b[0m\n\u001b[1;32m     14\u001b[0m random_generator \u001b[38;5;241m=\u001b[39m np\u001b[38;5;241m.\u001b[39mrandom\u001b[38;5;241m.\u001b[39mRandomState()\n\u001b[1;32m     16\u001b[0m \u001b[38;5;66;03m# Initialize the ARBotPybullet simulation with required arguments\u001b[39;00m\n\u001b[0;32m---> 17\u001b[0m simulation \u001b[38;5;241m=\u001b[39m \u001b[43mARBotPybullet\u001b[49m\u001b[43m(\u001b[49m\u001b[43mclient\u001b[49m\u001b[38;5;241;43m=\u001b[39;49m\u001b[43mclient_id\u001b[49m\u001b[43m,\u001b[49m\u001b[43m \u001b[49m\u001b[43mgui\u001b[49m\u001b[38;5;241;43m=\u001b[39;49m\u001b[38;5;28;43;01mTrue\u001b[39;49;00m\u001b[43m,\u001b[49m\u001b[43m \u001b[49m\u001b[43mrandom_generator\u001b[49m\u001b[38;5;241;43m=\u001b[39;49m\u001b[43mrandom_generator\u001b[49m\u001b[43m)\u001b[49m\n\u001b[1;32m     19\u001b[0m \u001b[38;5;66;03m# Reset the simulation (if necessary)\u001b[39;00m\n\u001b[1;32m     20\u001b[0m simulation\u001b[38;5;241m.\u001b[39mreset()\n",
      "File \u001b[0;32m~/catkin_ws/src/trainingEnv/ar_bot-master/ar_bot-master/ar_bot_sim/src/ar_bot_pybullet/ar_bot_pybullet.py:36\u001b[0m, in \u001b[0;36mARBotPybullet.__init__\u001b[0;34m(self, client, gui, random_generator)\u001b[0m\n\u001b[1;32m     32\u001b[0m urdf_path \u001b[38;5;241m=\u001b[39m \u001b[38;5;124m\"\u001b[39m\u001b[38;5;124mar_bot_pybullet\u001b[39m\u001b[38;5;130;01m\\a\u001b[39;00m\u001b[38;5;124mgent\u001b[39m\u001b[38;5;124m\\\u001b[39m\u001b[38;5;124mcozmo.urdf\u001b[39m\u001b[38;5;124m\"\u001b[39m\n\u001b[1;32m     34\u001b[0m random_start \u001b[38;5;241m=\u001b[39m random_generator\u001b[38;5;241m.\u001b[39muniform(\u001b[38;5;241m-\u001b[39m\u001b[38;5;241m0.35\u001b[39m, \u001b[38;5;241m0.35\u001b[39m)\n\u001b[0;32m---> 36\u001b[0m \u001b[38;5;28mself\u001b[39m\u001b[38;5;241m.\u001b[39marbot \u001b[38;5;241m=\u001b[39m \u001b[38;5;28;43mself\u001b[39;49m\u001b[38;5;241;43m.\u001b[39;49m\u001b[43mclient\u001b[49m\u001b[38;5;241;43m.\u001b[39;49m\u001b[43mloadURDF\u001b[49m(\n\u001b[1;32m     37\u001b[0m     urdf_path, [\u001b[38;5;241m0.575\u001b[39m, random_start, \u001b[38;5;241m0.05\u001b[39m]\n\u001b[1;32m     38\u001b[0m )\n\u001b[1;32m     40\u001b[0m \u001b[38;5;28mself\u001b[39m\u001b[38;5;241m.\u001b[39m_hit_color \u001b[38;5;241m=\u001b[39m [\u001b[38;5;241m1\u001b[39m, \u001b[38;5;241m0\u001b[39m, \u001b[38;5;241m0\u001b[39m]\n\u001b[1;32m     41\u001b[0m \u001b[38;5;28mself\u001b[39m\u001b[38;5;241m.\u001b[39m_miss_color \u001b[38;5;241m=\u001b[39m [\u001b[38;5;241m0\u001b[39m, \u001b[38;5;241m1\u001b[39m, \u001b[38;5;241m0\u001b[39m]\n",
      "\u001b[0;31mAttributeError\u001b[0m: 'int' object has no attribute 'loadURDF'"
     ]
    }
   ],
   "source": [
    "import pybullet as p\n",
    "import pybullet_data\n",
    "import numpy as np\n",
    "from ar_bot_pybullet.ar_bot_pybullet import ARBotPybullet\n",
    "import time\n",
    "\n",
    "# Start PyBullet in GUI mode\n",
    "client_id = p.connect(p.GUI)  # Get the client ID for PyBullet\n",
    "\n",
    "# Set up the PyBullet data path (for loading URDF files, etc.)\n",
    "p.setAdditionalSearchPath(pybullet_data.getDataPath())\n",
    "\n",
    "# Initialize a random generator (assuming np.random.RandomState is needed)\n",
    "random_generator = np.random.RandomState()\n",
    "\n",
    "# Initialize the ARBotPybullet simulation with required arguments\n",
    "simulation = ARBotPybullet(client=client_id, gui=True, random_generator=random_generator)\n",
    "\n",
    "# Reset the simulation (if necessary)\n",
    "simulation.reset()\n",
    "\n",
    "# Run the simulation loop to visualize the environment\n",
    "for _ in range(1000):  # Run for 1000 time steps\n",
    "    p.stepSimulation()\n",
    "    time.sleep(1./240.)  # Slow down to match real-time, 240Hz simulation speed\n",
    "\n",
    "# Disconnect PyBullet when done\n",
    "p.disconnect()\n"
   ]
  },
  {
   "cell_type": "code",
   "execution_count": null,
   "metadata": {},
   "outputs": [],
   "source": []
  }
 ],
 "metadata": {
  "kernelspec": {
   "display_name": "Python 3 (ipykernel)",
   "language": "python",
   "name": "python3"
  },
  "language_info": {
   "codemirror_mode": {
    "name": "ipython",
    "version": 3
   },
   "file_extension": ".py",
   "mimetype": "text/x-python",
   "name": "python",
   "nbconvert_exporter": "python",
   "pygments_lexer": "ipython3",
   "version": "3.8.10"
  }
 },
 "nbformat": 4,
 "nbformat_minor": 4
}
